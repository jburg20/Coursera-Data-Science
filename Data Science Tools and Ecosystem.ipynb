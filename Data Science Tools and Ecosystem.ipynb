{
 "cells": [
  {
   "cell_type": "markdown",
   "id": "1e093aa6",
   "metadata": {},
   "source": [
    "# Data Science Tools and Ecosystem"
   ]
  },
  {
   "cell_type": "markdown",
   "id": "990bfec0",
   "metadata": {},
   "source": [
    "In this notebook, Data Science Tools and Ecosystem are summarized."
   ]
  },
  {
   "cell_type": "markdown",
   "id": "7c39526f",
   "metadata": {},
   "source": [
    "**Objectives:**\n",
    "- List popular languages for Data Science\n",
    "- List popular libraries for Data Science\n",
    "- List common Data Science Tools\n",
    "- Give an example of an arithmetic expression\n",
    "- Give another example of an arithmetic expression"
   ]
  },
  {
   "cell_type": "markdown",
   "id": "72ea78b4",
   "metadata": {},
   "source": [
    "Some of the popular languages that Data Scientists use are: Python, R and SQL"
   ]
  },
  {
   "cell_type": "markdown",
   "id": "3d73ec5a",
   "metadata": {},
   "source": [
    "Some of the commonly used libraries used by Data Scientists include: Pandas, NumPy and Matplotlib"
   ]
  },
  {
   "cell_type": "markdown",
   "id": "49de1247",
   "metadata": {},
   "source": [
    "|Data Science Tool|\n",
    "|----|\n",
    "|Rstudio|\n",
    "|TensorFlow|\n",
    "Apache Spark|"
   ]
  },
  {
   "cell_type": "markdown",
   "id": "18aa68ec",
   "metadata": {},
   "source": [
    "### Below are a few examples of evaluating arithmetic expressions in Python"
   ]
  },
  {
   "cell_type": "markdown",
   "id": "9488aba3",
   "metadata": {},
   "source": [
    "This a simple arithmetic expression to mutiply then add integers"
   ]
  },
  {
   "cell_type": "code",
   "execution_count": 1,
   "id": "420664b0",
   "metadata": {},
   "outputs": [
    {
     "data": {
      "text/plain": [
       "17"
      ]
     },
     "execution_count": 1,
     "metadata": {},
     "output_type": "execute_result"
    }
   ],
   "source": [
    "(3*4)+5"
   ]
  },
  {
   "cell_type": "markdown",
   "id": "50e5cc15",
   "metadata": {},
   "source": [
    "This will convert 200 minutes to hours by diving by 60"
   ]
  },
  {
   "cell_type": "code",
   "execution_count": 4,
   "id": "2a842373",
   "metadata": {},
   "outputs": [
    {
     "data": {
      "text/plain": [
       "3.3333333333333335"
      ]
     },
     "execution_count": 4,
     "metadata": {},
     "output_type": "execute_result"
    }
   ],
   "source": [
    "200/60"
   ]
  },
  {
   "cell_type": "markdown",
   "id": "7f731f8f",
   "metadata": {},
   "source": [
    "## Author\n",
    "Josh Burgess"
   ]
  },
  {
   "cell_type": "code",
   "execution_count": null,
   "id": "c00962e9",
   "metadata": {},
   "outputs": [],
   "source": []
  }
 ],
 "metadata": {
  "kernelspec": {
   "display_name": "Python 3 (ipykernel)",
   "language": "python",
   "name": "python3"
  },
  "language_info": {
   "codemirror_mode": {
    "name": "ipython",
    "version": 3
   },
   "file_extension": ".py",
   "mimetype": "text/x-python",
   "name": "python",
   "nbconvert_exporter": "python",
   "pygments_lexer": "ipython3",
   "version": "3.11.5"
  }
 },
 "nbformat": 4,
 "nbformat_minor": 5
}
